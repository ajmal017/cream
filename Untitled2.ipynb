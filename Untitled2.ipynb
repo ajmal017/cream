{
 "cells": [
  {
   "cell_type": "code",
   "execution_count": 14,
   "metadata": {
    "scrolled": false
   },
   "outputs": [
    {
     "name": "stdout",
     "output_type": "stream",
     "text": [
      "ABCNo prices for 2016 + 2\n",
      "ACKNo prices for 2016 + 2\n",
      "ALCNo prices for 2016 + 2\n",
      "AQTNo prices for 2016 + 2\n",
      "B24No prices for 2016 + 2\n",
      "BITNo prices for 2016 + 2\n",
      "BTKNo prices for 2016 + 2\n",
      "CAMNo prices for 2016 + 2\n",
      "Calc problem, probably no data for CCT : undefined method `values' for nil:NilClass\n",
      "CHPNo prices for 2016 + 2\n",
      "Calc problem, probably no data for CWP : undefined method `values' for nil:NilClass\n",
      "DNPNo prices for 2016 + 2\n",
      "DOKNo prices for 2016 + 2\n",
      "FDGNo prices for 2016 + 2\n",
      "FTHNo prices for 2016 + 2\n",
      "FTINo prices for 2016 + 2\n",
      "GMENo prices for 2016 + 2\n",
      "GOVNo prices for 2016 + 2\n",
      "HBGNo prices for 2016 + 2\n",
      "Calc problem, probably no data for HEF : undefined method `values' for nil:NilClass\n",
      "ICPNo prices for 2016 + 2\n",
      "Calc problem, probably no data for IDG : undefined method `values' for nil:NilClass\n",
      "IFINo prices for 2016 + 2\n",
      "INMNo prices for 2016 + 2\n",
      "Calc problem, probably no data for LRK : undefined method `values' for nil:NilClass\n",
      "MTLNo prices for 2016 + 2\n",
      "MVPNo prices for 2016 + 2\n",
      "MXCNo prices for 2016 + 2\n",
      "NNGNo prices for 2016 + 2\n",
      "NSTNo prices for 2016 + 2\n",
      "NTUNo prices for 2016 + 2\n",
      "NXBNo prices for 2016 + 2\n",
      "PLYNo prices for 2016 + 2\n",
      "RHDNo prices for 2016 + 2\n",
      "SCPNo prices for 2016 + 2\n",
      "SLKNo prices for 2016 + 2\n",
      "THDNo prices for 2016 + 2\n",
      "TLONo prices for 2016 + 2\n",
      "TOWNo prices for 2016 + 2\n",
      "XTPNo prices for 2016 + 2\n",
      "done\n"
     ]
    }
   ],
   "source": [
    "include GnuplotRB\n",
    "\n",
    "def heatmap\n",
    "  heatmap = Plot.new(\n",
    "    [\"'data.dat'\", using: '3:2:4', with: 'image'],\n",
    "    xlabel: 'Indicators',\n",
    "    ylabel: 'Stocks',\n",
    "  ).plot\n",
    "end\n",
    "def heatmap_matrix\n",
    "  heatmap = Plot.new(\n",
    "    [\"'data.dat'\", using: '1:2:3', matrix: true, with: 'image'],      \n",
    "  ).plot\n",
    "end\n",
    "\n",
    "def data(results)\n",
    "  File.open('data.dat', 'w') { |f|\n",
    "    results[1].each_with_index { |x, i| \n",
    "      x.each_with_index { |y, j|\n",
    "        next if j < 2\n",
    "        f.write \"#{x[:ticker]} #{i} #{j} #{y[1]}\\n\"\n",
    "      }\n",
    "      f.write \"\\n\"\n",
    "    }\n",
    "  }\n",
    "end\n",
    "\n",
    "def data_matrix(results)\n",
    "    File.open('data.dat', 'w') { |f|\n",
    "      f.write results[1][0].keys.join(' ')\n",
    "      f.write \"\\n\"\n",
    "      results[1].each_with_index { |x, i|\n",
    "        f.write x.values.join(' ')\n",
    "        f.write \"\\n\"\n",
    "      }\n",
    "    }\n",
    "end\n",
    "\n",
    "#rel = Stock.where(ticker: 'KGH')\n",
    "\n",
    "#rel = Stock.not_banks.active.limit(400)\n",
    "rel = Stock.not_banks.active\n",
    "\n",
    "sf = ::StockFrames.stock_frames_from_relations rel\n",
    "\n",
    "algo = ::StockFrames::Strategies::S5.new sf\n",
    "\n",
    "results = algo.run(:algo, report_year: 2016)\n",
    "\n",
    "#data_matrix(results)\n",
    "\n",
    "puts \"done\""
   ]
  },
  {
   "cell_type": "code",
   "execution_count": null,
   "metadata": {},
   "outputs": [
    {
     "ename": "NameError",
     "evalue": "undefined local variable or method `results' for main:Object",
     "output_type": "error",
     "traceback": [
      "\u001b[31mNameError\u001b[0m: undefined local variable or method `results' for main:Object",
      "(pry):36:in `<main>'",
      "/home/lech/.rvm/gems/ruby-2.6.3/gems/pry-0.12.2/lib/pry/pry_instance.rb:387:in `eval'",
      "/home/lech/.rvm/gems/ruby-2.6.3/gems/pry-0.12.2/lib/pry/pry_instance.rb:387:in `evaluate_ruby'",
      "/home/lech/.rvm/gems/ruby-2.6.3/gems/pry-0.12.2/lib/pry/pry_instance.rb:355:in `handle_line'",
      "/home/lech/.rvm/gems/ruby-2.6.3/gems/pry-0.12.2/lib/pry/pry_instance.rb:274:in `block (2 levels) in eval'",
      "/home/lech/.rvm/gems/ruby-2.6.3/gems/pry-0.12.2/lib/pry/pry_instance.rb:273:in `catch'",
      "/home/lech/.rvm/gems/ruby-2.6.3/gems/pry-0.12.2/lib/pry/pry_instance.rb:273:in `block in eval'",
      "/home/lech/.rvm/gems/ruby-2.6.3/gems/pry-0.12.2/lib/pry/pry_instance.rb:272:in `catch'",
      "/home/lech/.rvm/gems/ruby-2.6.3/gems/pry-0.12.2/lib/pry/pry_instance.rb:272:in `eval'",
      "/home/lech/.rvm/gems/ruby-2.6.3/gems/iruby-0.4.0/lib/iruby/backend.rb:66:in `eval'",
      "/home/lech/.rvm/gems/ruby-2.6.3/gems/iruby-0.4.0/lib/iruby/backend.rb:12:in `eval'",
      "/home/lech/.rvm/gems/ruby-2.6.3/gems/iruby-0.4.0/lib/iruby/kernel.rb:90:in `execute_request'",
      "/home/lech/.rvm/gems/ruby-2.6.3/gems/iruby-0.4.0/lib/iruby/kernel.rb:49:in `dispatch'",
      "/home/lech/.rvm/gems/ruby-2.6.3/gems/iruby-0.4.0/lib/iruby/kernel.rb:38:in `run'",
      "/home/lech/.rvm/gems/ruby-2.4.1@cream/gems/jupyter_on_rails-0.5.4/lib/jupyter_on_rails/iruby_kernel_extention.rb:15:in `run'",
      "/home/lech/.rvm/gems/ruby-2.6.3/gems/iruby-0.4.0/lib/iruby/command.rb:110:in `run_kernel'",
      "/home/lech/.rvm/gems/ruby-2.6.3/gems/iruby-0.4.0/lib/iruby/command.rb:40:in `run'",
      "/home/lech/.rvm/gems/ruby-2.6.3/gems/iruby-0.4.0/bin/iruby:5:in `<top (required)>'",
      "/home/lech/.rvm/gems/ruby-2.4.1@cream/bin/iruby:23:in `load'",
      "/home/lech/.rvm/gems/ruby-2.4.1@cream/bin/iruby:23:in `<main>'",
      "/home/lech/.rvm/gems/ruby-2.6.3/bin/ruby_executable_hooks:24:in `eval'",
      "/home/lech/.rvm/gems/ruby-2.6.3/bin/ruby_executable_hooks:24:in `<main>'"
     ]
    }
   ],
   "source": [
    "number_of_5altmans = 0.0\n",
    "number_of_quality_stocks = 0.0\n",
    "number_of_quality_w_altman5 = 0.0\n",
    "altman_accuracy = 0.0\n",
    "number_of_bad_altmans = 0.0\n",
    "\n",
    "average_performance = 0.0\n",
    "altman5_performance = 0.0\n",
    "\n",
    "\n",
    "results[1].each do |x|\n",
    "  average_performance += x[:price_change]\n",
    "  altman5_performance += x[:price_change] if x[:altman] ==5\n",
    "  number_of_5altmans += 1.0 if x[:altman] == 5\n",
    "  number_of_quality_stocks += 1.0 if x[:price_change] > 10\n",
    "  number_of_quality_w_altman5 += 1.0 if x[:price_change] > 10 && x[:altman] == 5\n",
    "  number_of_bad_altmans += 1 if x[:price_change] < 10 && x[:altman] == 5\n",
    "end\n",
    "\n",
    "puts \"average: #{average_performance / results[1].length}\"\n",
    "puts \"altman5_performance: #{altman5_performance / results[1].length}\"\n",
    "\n",
    "altman_accuracy = number_of_quality_w_altman5 / number_of_5altmans\n",
    "puts altman_accuracy\n",
    "puts [number_of_5altmans, number_of_quality_stocks, number_of_quality_w_altman5, number_of_bad_altmans]"
   ]
  },
  {
   "cell_type": "code",
   "execution_count": 6,
   "metadata": {},
   "outputs": [
    {
     "data": {
      "text/plain": [
       "#<ActiveRecord::Relation [#<IncomeStatement id: 34918, year: 2018, quarter: 3, revenue: 0.28044e5, cost_of_revenue: 0.17701e5, selling_cost: 0.64e3, administrative_cost: 0.4043e4, gross_profit: 0.566e4, other_operating_income: 0.8e2, other_operating_cost: 0.204e3, operating_protif: 0.5536e4, financial_income: 0.15e2, financial_cost: 0.198e3, other_income: 0.0, income_before_tax: 0.5353e4, extra_item: 0.0, net_profit: 0.4421e4, stock_id: 30, price_on_report_date: 0.0>, #<IncomeStatement id: 34943, year: 2018, quarter: 3, revenue: 0.645e3, cost_of_revenue: 0.288e3, selling_cost: 0.0, administrative_cost: 0.268e3, gross_profit: 0.89e2, other_operating_income: 0.24e2, other_operating_cost: 0.7e1, operating_protif: 0.106e3, financial_income: 0.1e1, financial_cost: 0.94e2, other_income: 0.0, income_before_tax: 0.13e2, extra_item: 0.0, net_profit: 0.13e2, stock_id: 48, price_on_report_date: 0.0>, #<IncomeStatement id: 34947, year: 2018, quarter: 3, revenue: 0.3821e4, cost_of_revenue: 0.2667e4, selling_cost: 0.0, administrative_cost: 0.9e3, gross_profit: 0.254e3, other_operating_income: 0.11e2, other_operating_cost: -0.113e3, operating_protif: 0.378e3, financial_income: -0.239e3, financial_cost: -0.151e3, other_income: 0.0, income_before_tax: 0.29e3, extra_item: 0.0, net_profit: 0.321e3, stock_id: 36, price_on_report_date: 0.0>, #<IncomeStatement id: 34958, year: 2018, quarter: 3, revenue: 0.67131e5, cost_of_revenue: 0.53201e5, selling_cost: 0.2835e4, administrative_cost: 0.736e4, gross_profit: 0.3735e4, other_operating_income: 0.16528e5, other_operating_cost: 0.16911e5, operating_protif: 0.3352e4, financial_income: 0.452e3, financial_cost: 0.1661e4, other_income: 0.0, income_before_tax: 0.2143e4, extra_item: 0.0, net_profit: 0.2111e4, stock_id: 34, price_on_report_date: 0.0>, #<IncomeStatement id: 34962, year: 2018, quarter: 3, revenue: 0.258886e6, cost_of_revenue: 0.184295e6, selling_cost: 0.47355e5, administrative_cost: 0.31207e5, gross_profit: -0.3971e4, other_operating_income: 0.1555e4, other_operating_cost: 0.164e4, operating_protif: -0.4056e4, financial_income: 0.604e3, financial_cost: 0.1095e4, other_income: 0.139e3, income_before_tax: -0.4408e4, extra_item: 0.0, net_profit: -0.2758e4, stock_id: 17, price_on_report_date: 0.0>, #<IncomeStatement id: 34996, year: 2018, quarter: 3, revenue: 0.14869e5, cost_of_revenue: 0.9116e4, selling_cost: 0.566e4, administrative_cost: 0.245e4, gross_profit: -0.2357e4, other_operating_income: 0.449e3, other_operating_cost: 0.4e3, operating_protif: -0.2308e4, financial_income: -0.6e1, financial_cost: 0.141e3, other_income: 0.963e3, income_before_tax: -0.1492e4, extra_item: 0.0, net_profit: -0.1301e4, stock_id: 96, price_on_report_date: 0.0>, #<IncomeStatement id: 35000, year: 2018, quarter: 3, revenue: 0.4457e4, cost_of_revenue: 0.525e3, selling_cost: 0.386e3, administrative_cost: 0.3602e4, gross_profit: -0.56e2, other_operating_income: -0.5051e4, other_operating_cost: 0.0, operating_protif: -0.5107e4, financial_income: 0.21e3, financial_cost: -0.805e3, other_income: 0.0, income_before_tax: -0.4092e4, extra_item: 0.0, net_profit: -0.427e4, stock_id: 92, price_on_report_date: 0.0>, #<IncomeStatement id: 35004, year: 2018, quarter: 3, revenue: 0.128241e6, cost_of_revenue: 0.127783e6, selling_cost: 0.0, administrative_cost: 0.0, gross_profit: 0.458e3, other_operating_income: 0.4642e4, other_operating_cost: 0.493e4, operating_protif: 0.17e3, financial_income: 0.75e2, financial_cost: 0.1197e4, other_income: 0.0, income_before_tax: -0.952e3, extra_item: 0.0, net_profit: -0.226e3, stock_id: 40, price_on_report_date: 0.0>, #<IncomeStatement id: 35029, year: 2018, quarter: 3, revenue: 0.206e3, cost_of_revenue: 0.279e4, selling_cost: 0.0, administrative_cost: 0.1945e4, gross_profit: -0.4529e4, other_operating_income: 0.1137e4, other_operating_cost: 0.71e2, operating_protif: -0.3463e4, financial_income: 0.0, financial_cost: 0.23e2, other_income: 0.0, income_before_tax: -0.3486e4, extra_item: 0.0, net_profit: -0.3466e4, stock_id: 98, price_on_report_date: 0.0>, #<IncomeStatement id: 35033, year: 2018, quarter: 3, revenue: 0.6497e4, cost_of_revenue: 0.8432e4, selling_cost: 0.0, administrative_cost: 0.0, gross_profit: -0.1935e4, other_operating_income: 0.152e3, other_operating_cost: 0.66e2, operating_protif: -0.1849e4, financial_income: 0.0, financial_cost: 0.93e2, other_income: 0.0, income_before_tax: -0.1942e4, extra_item: 0.0, net_profit: -0.1945e4, stock_id: 94, price_on_report_date: 0.0>]>"
      ]
     },
     "execution_count": 6,
     "metadata": {},
     "output_type": "execute_result"
    }
   ],
   "source": [
    "x = IncomeStatement.where(\"year >= 2018 and quarter = 3\")"
   ]
  },
  {
   "cell_type": "code",
   "execution_count": 5,
   "metadata": {},
   "outputs": [
    {
     "data": {
      "text/plain": [
       "#<StockFrames::Frame:0x00007f09486050d8 @data={\"year\"=>[2011, 2012, 2013, 2014, 2015, 2016, 2017, 2018], \"year_q\"=>[], \"revenue\"=>[0.0, 0.0, 0.21e4, 0.5835e4, 0.6275e4, 0.2031e4, 0.515e3, 0.207e4], \"revenue_q\"=>[], \"cost_of_revenue\"=>[0.903e3, 0.488e3, 0.1879e4, 0.5029e4, 0.6609e4, 0.217e4, 0.39e3, 0.1511e4], \"cost_of_revenue_q\"=>[], \"selling_cost\"=>[0.0, 0.0, 0.0, 0.0, 0.0, 0.0, 0.0, 0.0], \"selling_cost_q\"=>[], \"administrative_cost\"=>[0.0, 0.0, 0.0, 0.0, 0.0, 0.0, 0.0, 0.0], \"administrative_cost_q\"=>[], \"gross_profit\"=>[-0.903e3, -0.488e3, 0.221e3, 0.806e3, -0.334e3, -0.139e3, 0.125e3, 0.559e3], \"gross_profit_q\"=>[], \"other_operating_income\"=>[0.1e1, 0.449e3, 0.2e1, 0.0, 0.2829e4, 0.0, 0.528e3, 0.105e4], \"other_operating_income_q\"=>[], \"other_operating_cost\"=>[0.89e2, 0.155e3, 0.28e2, 0.0, 0.1728e4, 0.0, 0.0, 0.768e3], \"other_operating_cost_q\"=>[], \"operating_protif\"=>[-0.991e3, -0.194e3, 0.195e3, 0.806e3, 0.767e3, -0.139e3, 0.653e3, 0.841e3], \"operating_protif_q\"=>[], \"financial_income\"=>[0.0, 0.1e1, 0.0, 0.15e3, 0.5e1, 0.2615e4, 0.15e2, 0.241e3], \"financial_income_q\"=>[], \"financial_cost\"=>[0.0, 0.189e3, 0.8e1, 0.32e2, 0.6054e4, 0.25e2, 0.5e3, 0.562e3], \"financial_cost_q\"=>[], \"other_income\"=>[0.0, 0.0, 0.0, 0.0, 0.0, 0.0, 0.0, 0.0], \"other_income_q\"=>[], \"income_before_tax\"=>[-0.991e3, -0.382e3, 0.187e3, 0.924e3, -0.5282e4, 0.2451e4, 0.168e3, 0.52e3], \"income_before_tax_q\"=>[], \"extra_item\"=>[0.0, 0.0, 0.0, 0.0, 0.0, 0.0, 0.0, 0.0], \"extra_item_q\"=>[], \"net_profit\"=>[-0.991e3, -0.382e3, 0.187e3, 0.924e3, -0.5282e4, 0.2402e4, 0.168e3, 0.519e3], \"net_profit_q\"=>[], \"stock_id\"=>[439, 439, 439, 439, 439, 439, 439, 439, 439, 439, 439, 439, 439, 439, 439, 439, 439, 439, 439, 439, 439, 439, 439, 439], \"stock_id_q\"=>[], \"price_on_report_date\"=>[0.41180327868852459016e0, 0.22195652173913043478e0, 0.18557377049180327869e0, 0.21241935483870967742e0, 0.929032258064516129e-1, 0.8203389830508474576e-1, 0.5826923076923076923e-1, 0.10042962962962962963e1], \"price_on_report_date_q\"=>[], \"fixed_assets\"=>[0.956e3, 0.33611e5, 0.33375e5, 0.53006e5, 0.49068e5, 0.50151e5, 0.46056e5, 0.4305e5], \"fixed_assets_q\"=>[], \"intangible\"=>[0.874e3, 0.72e3, 0.503e3, 0.289e3, 0.177e3, 0.64e2, 0.0, 0.0], \"intangible_q\"=>[], \"ppe\"=>[0.82e2, 0.32891e5, 0.32872e5, 0.50704e5, 0.9e1, 0.8e1, 0.11e2, 0.0], \"ppe_q\"=>[], \"long_term_receivables\"=>[0.0, 0.0, 0.0, 0.0, 0.0, 0.0, 0.0, 0.0], \"long_term_receivables_q\"=>[], \"long_term_investments\"=>[0.0, 0.0, 0.0, 0.2013e4, 0.48882e5, 0.50079e5, 0.46045e5, 0.4305e5], \"long_term_investments_q\"=>[], \"other_fixed_assets\"=>[0.0, 0.0, 0.0, 0.0, 0.0, 0.0, 0.0, 0.0], \"other_fixed_assets_q\"=>[], \"assets\"=>[0.1983e4, 0.1794e4, 0.2306e4, 0.5362e4, 0.6023e4, 0.614e4, 0.2111e4, 0.6067e4], \"assets_q\"=>[], \"reserves\"=>[0.0, 0.0, 0.42e2, 0.42e2, 0.44e2, 0.44e2, 0.844e3, 0.605e3], \"reserves_q\"=>[], \"short_term_receivables\"=>[0.127e3, 0.106e3, 0.569e3, 0.843e3, 0.1711e4, 0.5001e4, 0.684e3, 0.546e4], \"short_term_receivables_q\"=>[], \"short_term_investments\"=>[0.169e3, 0.1e1, 0.16e2, 0.421e3, 0.661e3, 0.1095e4, 0.579e3, 0.2e1], \"short_term_investments_q\"=>[], \"cash\"=>[0.23e2, 0.1e1, 0.16e2, 0.421e3, 0.661e3, 0.884e3, 0.579e3, 0.2e1], \"cash_q\"=>[], \"other_assets\"=>[0.1687e4, 0.1687e4, 0.1679e4, 0.4056e4, 0.3607e4, 0.0, 0.4e1, 0.0], \"other_assets_q\"=>[], \"equity_capital\"=>[0.133e3, 0.32744e5, 0.33591e5, 0.52346e5, 0.4711e5, 0.54381e5, 0.4781e5, 0.48334e5], \"equity_capital_q\"=>[], \"basic_capital\"=>[0.2873e4, 0.35867e5, 0.35867e5, 0.35867e5, 0.47867e5, 0.47867e5, 0.47867e5, 0.47867e5], \"basic_capital_q\"=>[], \"reserve_fund\"=>[0.5738e4, 0.5738e4, 0.5738e4, 0.5738e4, 0.5738e4, 0.415e4, 0.6552e4, 0.13235e5], \"reserve_fund_q\"=>[], \"long_term_liabilities\"=>[0.401e3, 0.28e3, 0.0, 0.0, 0.0, 0.0, 0.0, 0.0], \"long_term_liabilities_q\"=>[], \"deliveries_services\"=>[0.0, 0.0, 0.0, 0.0, 0.0, 0.0, 0.0, 0.0], \"deliveries_services_q\"=>[], \"credits_loans\"=>[0.0, 0.0, 0.0, 0.0, 0.0, 0.0, 0.0, 0.0], \"credits_loans_q\"=>[], \"debt_securities\"=>[0.387e3, 0.266e3, 0.0, 0.0, 0.0, 0.0, 0.0, 0.0], \"debt_securities_q\"=>[], \"leasing\"=>[0.0, 0.0, 0.0, 0.0, 0.0, 0.0, 0.0, 0.0], \"leasing_q\"=>[], \"other_long_terml_liabilities\"=>[0.14e2, 0.14e2, 0.0, 0.0, 0.0, 0.0, 0.0, 0.0], \"other_long_terml_liabilities_q\"=>[], \"short_term_liabilities\"=>[0.2405e4, 0.2381e4, 0.209e4, 0.6022e4, 0.6566e4, 0.191e4, 0.357e3, 0.783e3], \"short_term_liabilities_q\"=>[], \"short_term_deliveries_services\"=>[0.1e4, 0.611e3, 0.638e3, 0.23e3, 0.622e3, 0.608e3, 0.94e2, 0.758e3], \"short_term_deliveries_services_q\"=>[], \"short_term_credit_loans\"=>[0.3e1, 0.214e3, 0.214e3, 0.354e3, 0.0, 0.0, 0.86e2, 0.0], \"short_term_credit_loans_q\"=>[], \"short_term_debt_securities\"=>[0.0, 0.0, 0.0, 0.0, 0.0, 0.0, 0.0, 0.0], \"short_term_debt_securities_q\"=>[], \"short_term_leasing\"=>[0.0, 0.0, 0.28e3, 0.279e3, 0.1906e4, 0.1901e4, 0.0, 0.0], \"short_term_leasing_q\"=>[], \"other_short_term_liabilies\"=>[0.1402e4, 0.1556e4, 0.958e3, 0.5159e4, 0.4038e4, -0.599e3, 0.177e3, 0.25e2], \"other_short_term_liabilies_q\"=>[], \"accrued_expenses\"=>[0.0, 0.0, 0.0, 0.0, 0.1415e4, 0.0, 0.0, 0.0], \"accrued_expenses_q\"=>[], \"operating_cash_flow\"=>[-0.579e3, -0.168e3, -0.366e3, 0.2278e4, -0.591e4, -0.1283e4, -0.1075e4, -0.564e3], \"operating_cash_flow_q\"=>[], \"amortization\"=>[0.259e3, 0.217e3, 0.235e3, 0.213e3, 0.113e3, 0.115e3, 0.68e2, 0.11e2], \"amortization_q\"=>[], \"investing_cash_flow\"=>[0.378e3, 0.155e3, 0.0, -0.2013e4, -0.2134e4, -0.69e3, 0.1237e4, -0.12e2], \"investing_cash_flow_q\"=>[], \"capex\"=>[0.0, 0.0, 0.0, 0.0, 0.1e2, 0.0, 0.0, 0.0], \"capex_q\"=>[], \"financial_cash_flow\"=>[0.145e3, 0.0, 0.381e3, 0.14e3, 0.9686e4, 0.554e3, -0.467e3, 0.0], \"financial_cash_flow_q\"=>[], \"shares_issue\"=>[0.145e3, 0.0, 0.0, 0.0, 0.12e5, 0.0, 0.0, 0.0], \"shares_issue_q\"=>[], \"dividend\"=>[0.0, 0.0, 0.0, 0.0, 0.448e3, 0.0, 0.0, 0.0], \"dividend_q\"=>[], \"total_cash_flow\"=>[-0.56e2, -0.13e2, 0.15e2, 0.405e3, 0.1642e4, -0.1419e4, -0.305e3, -0.576e3], \"total_cash_flow_q\"=>[], \"id\"=>439, \"ticker\"=>\"01C\", \"name\"=>\"01CYBATON\", \"shares\"=>0.5983326e7, \"isin\"=>\"PLVCAOC00015\", \"debut\"=>Tue, 01 Jul 2008, \"website\"=>\"http://01cyberaton.eu/\", \"market_id\"=>2, \"sector_id\"=>28, \"index_id\"=>nil, \"comment\"=>nil, \"rating\"=>nil, \"status\"=>\"active\", \"prices\"=>{2008=>{2=>0.783578947368421053e2, 3=>0.690232558139534884e2, 4=>0.708528301886792453e2}, 2009=>{1=>0.574814814814814815e2, 2=>0.552131147540983607e2, 3=>0.564121212121212121e2, 4=>0.324317460317460317e2}, 2010=>{1=>0.168888888888888889e2, 2=>0.110688524590163934e2, 3=>0.91076923076923077e1, 4=>0.275301587301587302e2}, 2011=>{1=>0.310603174603174603e2, 2=>0.13980327868852459e2, 3=>0.108e2, 4=>0.90064516129032258e1}, 2012=>{1=>0.89e1, 2=>0.736e1, 3=>0.825e1, 4=>0.70557377049180328e1}, 2013=>{1=>0.68408163265306122e1, 2=>0.13766666666666667e1, 3=>0.83809523809523809524e0, 4=>0.17233333333333333e1}, 2014=>{1=>0.34516129032258065e1, 2=>0.51245901639344262e1, 3=>0.804e1, 4=>0.65442622950819672e1}, 2015=>{1=>0.37129032258064516e1, 2=>0.39672131147540984e1, 3=>0.31787878787878788e1, 4=>0.28290322580645161e1}, 2016=>{1=>0.20295081967213115e1, 2=>0.15682539682539683e1, 3=>0.14184615384615385e1, 4=>0.17806451612903226e1}, 2017=>{1=>0.17e1, 2=>0.15103448275862069e1, 3=>0.14847457627118644e1, 4=>0.11620689655172414e1}, 2018=>{1=>0.11591836734693878e1, 2=>0.11307692307692308e1, 3=>0.10681818181818182e1, 4=>0.97244897959183673469e0}, 2019=>{1=>0.94382758620689655172e0, 2=>0.101057692307692307692e1, 3=>0.15488135593220339e1, 4=>0.285e1}}}>"
      ]
     },
     "execution_count": 5,
     "metadata": {},
     "output_type": "execute_result"
    }
   ],
   "source": []
  }
 ],
 "metadata": {
  "kernelspec": {
   "display_name": "CreamSeed (rails 5.2.2.1)",
   "language": "ruby",
   "name": "rails"
  },
  "language_info": {
   "file_extension": ".rb",
   "mimetype": "application/x-ruby",
   "name": "ruby",
   "version": "2.6.3"
  }
 },
 "nbformat": 4,
 "nbformat_minor": 2
}
